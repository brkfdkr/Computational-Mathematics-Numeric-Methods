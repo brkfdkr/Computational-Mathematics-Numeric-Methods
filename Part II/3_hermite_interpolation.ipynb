{
 "cells": [
  {
   "cell_type": "markdown",
   "source": [
    "## Hermite Interpolation Function"
   ],
   "metadata": {
    "collapsed": false
   }
  },
  {
   "cell_type": "code",
   "execution_count": null,
   "outputs": [],
   "source": [
    "from scipy.misc import derivative # Function to obtain derivatives\n",
    "\n",
    "def hermite_interpolation(x, y, dy, x_eval):\n",
    "    \"\"\"\n",
    "    Perform Hermite interpolation on the given data points and evaluate the polynomial at a given point.\n",
    "\n",
    "    Args:\n",
    "        x: An array-like object of x-coordinates of the data points.\n",
    "        y: An array-like object of y-coordinates of the data points.\n",
    "        dy: An array-like object of the derivatives of y with respect to x at each data point.\n",
    "        x_eval: The x-coordinate at which to evaluate the polynomial.\n",
    "\n",
    "    Returns:\n",
    "        The value of the polynomial at x_eval.\n",
    "\n",
    "    Raises:\n",
    "        ValueError: If the length of x is not equal to the length of y or dy.\n",
    "    \"\"\"\n",
    "    # Conditions\n",
    "    if len(x) != len(y) or len(x) != len(dy):\n",
    "        raise ValueError(\"x, y, and dy must have the same length.\")\n",
    "\n",
    "    n = len(x)\n",
    "    # Define the basis\n",
    "    def alpha(x):\n",
    "        return 1-2*dL(xi)\n"
   ],
   "metadata": {
    "collapsed": false
   }
  },
  {
   "cell_type": "markdown",
   "source": [
    "#### Auxiliary functions"
   ],
   "metadata": {
    "collapsed": false
   }
  },
  {
   "cell_type": "code",
   "execution_count": null,
   "outputs": [],
   "source": [
    "def lagrange_basis(x,x_eval):\n",
    "    n=len(x)\n",
    "    L = [1]*n # empty Lagrange basis\n",
    "    for i in range(n):\n",
    "        for k in range(n):\n",
    "            if k!=i:\n",
    "                L[i] *= (x_eval-x[k])/(x[i]-x[k]) # Creating Lagrange basis\n",
    "    return L"
   ],
   "metadata": {
    "collapsed": false
   }
  },
  {
   "cell_type": "code",
   "execution_count": 9,
   "outputs": [],
   "source": [
    "import sympy\n",
    "\n",
    "def lagrange_basis(x, i):\n",
    "    x_i = x[i]\n",
    "    x = sympy.symbols('x')\n",
    "    n = len(x)\n",
    "    l = 1\n",
    "    for j in range(n):\n",
    "        if i != j:\n",
    "            l *= (x - x[j]) / (x_i - x[j])\n",
    "    return l\n",
    "\n",
    "def lagrange_basis_derivative(x, i):\n",
    "    x_i = x[i]\n",
    "    x = sympy.symbols('x')\n",
    "    n = len(x)\n",
    "    dl = 0\n",
    "    for j in range(n):\n",
    "        if i != j:\n",
    "            l = 1\n",
    "            for k in range(n):\n",
    "                if i != k and j != k:\n",
    "                    l *= (x - x[k]) / (x_i - x[k])\n",
    "            dl += l\n",
    "    return sympy.simplify(dl)"
   ],
   "metadata": {
    "collapsed": false
   }
  },
  {
   "cell_type": "code",
   "execution_count": 10,
   "outputs": [
    {
     "ename": "IndexError",
     "evalue": "list index out of range",
     "output_type": "error",
     "traceback": [
      "\u001B[1;31m---------------------------------------------------------------------------\u001B[0m",
      "\u001B[1;31mIndexError\u001B[0m                                Traceback (most recent call last)",
      "Input \u001B[1;32mIn [10]\u001B[0m, in \u001B[0;36m<cell line: 1>\u001B[1;34m()\u001B[0m\n\u001B[1;32m----> 1\u001B[0m \u001B[43mlagrange_basis\u001B[49m\u001B[43m(\u001B[49m\u001B[43mx\u001B[49m\u001B[43m,\u001B[49m\u001B[43mx_eval\u001B[49m\u001B[43m)\u001B[49m\n",
      "Input \u001B[1;32mIn [9]\u001B[0m, in \u001B[0;36mlagrange_basis\u001B[1;34m(x, i)\u001B[0m\n\u001B[0;32m      3\u001B[0m \u001B[38;5;28;01mdef\u001B[39;00m \u001B[38;5;21mlagrange_basis\u001B[39m(x, i):\n\u001B[1;32m----> 4\u001B[0m     x_i \u001B[38;5;241m=\u001B[39m \u001B[43mx\u001B[49m\u001B[43m[\u001B[49m\u001B[43mi\u001B[49m\u001B[43m]\u001B[49m\n\u001B[0;32m      5\u001B[0m     x \u001B[38;5;241m=\u001B[39m sympy\u001B[38;5;241m.\u001B[39msymbols(\u001B[38;5;124m'\u001B[39m\u001B[38;5;124mx\u001B[39m\u001B[38;5;124m'\u001B[39m)\n\u001B[0;32m      6\u001B[0m     n \u001B[38;5;241m=\u001B[39m \u001B[38;5;28mlen\u001B[39m(x)\n",
      "\u001B[1;31mIndexError\u001B[0m: list index out of range"
     ]
    }
   ],
   "source": [
    "lagrange_basis(x,x_eval)"
   ],
   "metadata": {
    "collapsed": false
   }
  },
  {
   "cell_type": "code",
   "execution_count": 7,
   "outputs": [
    {
     "ename": "NameError",
     "evalue": "name 'lagrange_interpolation' is not defined",
     "output_type": "error",
     "traceback": [
      "\u001B[1;31m---------------------------------------------------------------------------\u001B[0m",
      "\u001B[1;31mNameError\u001B[0m                                 Traceback (most recent call last)",
      "Input \u001B[1;32mIn [7]\u001B[0m, in \u001B[0;36m<cell line: 10>\u001B[1;34m()\u001B[0m\n\u001B[0;32m      8\u001B[0m y \u001B[38;5;241m=\u001B[39m func1(x)\n\u001B[0;32m      9\u001B[0m x_eval \u001B[38;5;241m=\u001B[39m \u001B[38;5;241m3\u001B[39m\n\u001B[1;32m---> 10\u001B[0m L, val \u001B[38;5;241m=\u001B[39m \u001B[43mlagrange_interpolation\u001B[49m(x, func1(x), x_eval)\n\u001B[0;32m     11\u001B[0m \u001B[38;5;28mprint\u001B[39m(\u001B[38;5;124m\"\u001B[39m\u001B[38;5;124mFunc: 1/x\u001B[39m\u001B[38;5;130;01m\\n\u001B[39;00m\u001B[38;5;124mx:\u001B[39m\u001B[38;5;124m\"\u001B[39m, x)\n\u001B[0;32m     12\u001B[0m \u001B[38;5;28mprint\u001B[39m(\u001B[38;5;124m\"\u001B[39m\u001B[38;5;124my:\u001B[39m\u001B[38;5;124m\"\u001B[39m, func1(x))\n",
      "\u001B[1;31mNameError\u001B[0m: name 'lagrange_interpolation' is not defined"
     ]
    }
   ],
   "source": [
    "\n",
    "x = [2, 2.5, 4]\n",
    "\n",
    "\n",
    "def func1(x):\n",
    "    return [1 / i for i in x]\n",
    "\n",
    "\n",
    "y = func1(x)\n",
    "x_eval = 3\n",
    "L, val = lagrange_interpolation(x, func1(x), x_eval)\n",
    "print(\"Func: 1/x\\nx:\", x)\n",
    "print(\"y:\", func1(x))\n",
    "print(f\"\\nOur result from lagrange interpolation at {x_eval} is: \\n g({x_eval}):\",\n",
    "      \" + \".join([str(y[i]) + \"*\" + str(round(L[i], 5)) for i in range(len(x))]), \" = \", round(val, 5))"
   ],
   "metadata": {
    "collapsed": false
   }
  },
  {
   "cell_type": "code",
   "execution_count": null,
   "outputs": [],
   "source": [],
   "metadata": {
    "collapsed": false
   }
  }
 ],
 "metadata": {
  "kernelspec": {
   "display_name": "Python 3",
   "language": "python",
   "name": "python3"
  },
  "language_info": {
   "codemirror_mode": {
    "name": "ipython",
    "version": 2
   },
   "file_extension": ".py",
   "mimetype": "text/x-python",
   "name": "python",
   "nbconvert_exporter": "python",
   "pygments_lexer": "ipython2",
   "version": "2.7.6"
  }
 },
 "nbformat": 4,
 "nbformat_minor": 0
}
