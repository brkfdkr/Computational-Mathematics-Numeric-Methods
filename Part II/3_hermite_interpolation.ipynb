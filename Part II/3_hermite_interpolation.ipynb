{
 "cells": [
  {
   "cell_type": "markdown",
   "source": [
    "## Hermite Interpolation Function"
   ],
   "metadata": {
    "collapsed": false
   }
  },
  {
   "cell_type": "code",
   "execution_count": 70,
   "outputs": [],
   "source": [
    "import sympy as sp"
   ],
   "metadata": {
    "collapsed": false
   }
  },
  {
   "cell_type": "code",
   "execution_count": 71,
   "outputs": [],
   "source": [
    "from scipy.misc import derivative # Function to obtain derivatives\n",
    "\n",
    "def hermite_interpolation(x, f, df, x_eval):\n",
    "    \"\"\"\n",
    "    Perform Hermite interpolation on the given data points and evaluate the polynomial at a given point.\n",
    "\n",
    "    Args:\n",
    "        x: An array-like object of x-coordinates of the data points.\n",
    "        y: An array-like object of y-coordinates of the data points.\n",
    "        dy: An array-like object of the derivatives of y with respect to x at each data point.\n",
    "        x_eval: The x-coordinate at which to evaluate the polynomial.\n",
    "\n",
    "    Returns:\n",
    "        The value of the polynomial at x_eval.\n",
    "\n",
    "    Raises:\n",
    "        ValueError: If the length of x is not equal to the length of y or dy.\n",
    "    \"\"\"\n",
    "    n=len(x)\n",
    "    # H(x) = (sum i=0 to n)(alpha_i(x)*f(x[i]) + beta_i(x)*f'(x[i])\n",
    "    H=0\n",
    "    xi = sp.symbols('x')\n",
    "\n",
    "    for i in range(n):\n",
    "        f_eval = f.subs(xi, x[i])\n",
    "        df_eval = df.subs(xi, x[i])\n",
    "\n",
    "        H+=alpha(x,i,x_eval)*f_eval + beta(x,i,x_eval)*df_eval\n",
    "\n",
    "    return H\n",
    "\n",
    "\n"
   ],
   "metadata": {
    "collapsed": false
   }
  },
  {
   "cell_type": "markdown",
   "source": [
    "#### Auxiliary functions"
   ],
   "metadata": {
    "collapsed": false
   }
  },
  {
   "cell_type": "code",
   "execution_count": 72,
   "outputs": [],
   "source": [
    "\n",
    "def lagrange_basis(x,i,x_eval):\n",
    "    xi = sp.symbols('x')\n",
    "    n=len(x)\n",
    "    L = 1 # empty Lagrange basis\n",
    "    for k in range(n):\n",
    "        if k!=i:\n",
    "            L *= (xi-x[k])/(x[i]-x[k]) # Creating Lagrange basis\n",
    "    L_func = sp.lambdify(xi, L) # Convert SymPy expression to Python function\n",
    "    return float(L_func(x_eval))"
   ],
   "metadata": {
    "collapsed": false
   }
  },
  {
   "cell_type": "code",
   "execution_count": 73,
   "outputs": [],
   "source": [
    "def lagrange_basis_derivative(x,i,x_eval):\n",
    "    xi = sp.symbols('x')\n",
    "    n=len(x)\n",
    "    L = 1 # empty Lagrange basis\n",
    "    for k in range(n):\n",
    "        if k!=i:\n",
    "            L *= (xi-x[k])/(x[i]-x[k]) # Creating Lagrange basis\n",
    "    Ldiff = sp.diff(L, xi)\n",
    "    L_func_diff = sp.lambdify(xi, Ldiff) # Convert SymPy expression to Python function\n",
    "    return float(L_func_diff(x_eval))"
   ],
   "metadata": {
    "collapsed": false
   }
  },
  {
   "cell_type": "code",
   "execution_count": 74,
   "outputs": [],
   "source": [
    "def alpha(x,i,x_eval):\n",
    "    return (1-2*lagrange_basis_derivative(x,i,x_eval)*(x_eval-x[i]))*lagrange_basis(x,i,x_eval)**2"
   ],
   "metadata": {
    "collapsed": false
   }
  },
  {
   "cell_type": "code",
   "execution_count": 75,
   "outputs": [],
   "source": [
    "def beta(x,i,x_eval):\n",
    "    return (x_eval-x[i])*lagrange_basis(x,i,x_eval)**2\n"
   ],
   "metadata": {
    "collapsed": false
   }
  },
  {
   "cell_type": "markdown",
   "source": [
    "#### Example"
   ],
   "metadata": {
    "collapsed": false
   }
  },
  {
   "cell_type": "code",
   "execution_count": 76,
   "outputs": [
    {
     "data": {
      "text/plain": "0.772013888888901",
      "text/latex": "$\\displaystyle 0.772013888888901$"
     },
     "execution_count": 76,
     "metadata": {},
     "output_type": "execute_result"
    }
   ],
   "source": [
    "xi = sp.symbols('x')\n",
    "\n",
    "x_eval = 3\n",
    "f = 1/xi\n",
    "df = sp.diff(f, xi)\n",
    "x = [2,2.5,4]\n",
    "hermite_interpolation(x,f,df,x_eval)"
   ],
   "metadata": {
    "collapsed": false
   }
  },
  {
   "cell_type": "code",
   "execution_count": null,
   "outputs": [],
   "source": [],
   "metadata": {
    "collapsed": false,
    "pycharm": {
     "is_executing": true
    }
   }
  }
 ],
 "metadata": {
  "kernelspec": {
   "display_name": "Python 3",
   "language": "python",
   "name": "python3"
  },
  "language_info": {
   "codemirror_mode": {
    "name": "ipython",
    "version": 2
   },
   "file_extension": ".py",
   "mimetype": "text/x-python",
   "name": "python",
   "nbconvert_exporter": "python",
   "pygments_lexer": "ipython2",
   "version": "2.7.6"
  }
 },
 "nbformat": 4,
 "nbformat_minor": 0
}
