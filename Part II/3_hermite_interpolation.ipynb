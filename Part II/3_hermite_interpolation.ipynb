{
 "cells": [
  {
   "cell_type": "markdown",
   "source": [
    "## Hermite Interpolation Function"
   ],
   "metadata": {
    "collapsed": false
   }
  },
  {
   "cell_type": "code",
   "execution_count": 125,
   "outputs": [],
   "source": [
    "import sympy as sp"
   ],
   "metadata": {
    "collapsed": false
   }
  },
  {
   "cell_type": "code",
   "execution_count": 287,
   "outputs": [],
   "source": [
    "from scipy.misc import derivative # Function to obtain derivatives\n",
    "\n",
    "def hermite_interpolation(x, f, df, x_eval):\n",
    "    \"\"\"\n",
    "    Perform Hermite interpolation on the given data points and evaluate the polynomial at a given point.\n",
    "\n",
    "    Args:\n",
    "        x: An array-like object of x-coordinates of the data points.\n",
    "        f: An array-like object of y-coordinates of the data points.\n",
    "        df: An array-like object of the derivatives of y with respect to x at each data point.\n",
    "        x_eval: The x-coordinate at which to evaluate the polynomial.\n",
    "\n",
    "    Returns:\n",
    "        The value of the polynomial at x_eval.\n",
    "\n",
    "    Raises:\n",
    "        ValueError: If the length of x is not equal to the length of y or dy.\n",
    "    \"\"\"\n",
    "    n=len(x)\n",
    "    # H(x) = (sum i=0 to n)(alpha_i(x)*f(x[i]) + beta_i(x)*f'(x[i])\n",
    "    H=0\n",
    "    xi = sp.symbols('x')\n",
    "\n",
    "    for i in range(n):\n",
    "\n",
    "        H+=alpha(x,i)*f[i] + beta(x,i)*df[i]\n",
    "    H = sp.simplify(H)\n",
    "    return H,H.subs(xi,x_eval)\n",
    "\n",
    "\n"
   ],
   "metadata": {
    "collapsed": false
   }
  },
  {
   "cell_type": "markdown",
   "source": [
    "#### Auxiliary functions"
   ],
   "metadata": {
    "collapsed": false
   }
  },
  {
   "cell_type": "code",
   "execution_count": 288,
   "outputs": [],
   "source": [
    "\n",
    "def lagrange_basis(x,i):\n",
    "    xi = sp.symbols('x')\n",
    "    n=len(x)\n",
    "    L = 1 # empty Lagrange basis\n",
    "    for k in range(n):\n",
    "        if k!=i:\n",
    "            L *= (xi-x[k])/(x[i]-x[k]) # Creating Lagrange basis\n",
    "\n",
    "    return L"
   ],
   "metadata": {
    "collapsed": false
   }
  },
  {
   "cell_type": "code",
   "execution_count": 289,
   "outputs": [],
   "source": [
    "def lagrange_basis_derivative(x,i):\n",
    "    xi = sp.symbols('x')\n",
    "    n=len(x)\n",
    "    L = 1 # empty Lagrange basis\n",
    "    for k in range(n):\n",
    "        if k!=i:\n",
    "            L *= (xi-x[k])/(x[i]-x[k]) # Creating Lagrange basis\n",
    "    Ldiff = sp.diff(L, xi) #Differentiation\n",
    "    L_eval = Ldiff.subs(xi,x[i])\n",
    "    return L_eval"
   ],
   "metadata": {
    "collapsed": false
   }
  },
  {
   "cell_type": "code",
   "execution_count": 290,
   "outputs": [],
   "source": [
    "def alpha(x,i):\n",
    "    xi = sp.symbols('x')\n",
    "    return (1-2*lagrange_basis_derivative(x,i)*(xi-x[i]))*(lagrange_basis(x,i)*lagrange_basis(x,i))"
   ],
   "metadata": {
    "collapsed": false
   }
  },
  {
   "cell_type": "code",
   "execution_count": 291,
   "outputs": [],
   "source": [
    "def beta(x,i):\n",
    "    xi = sp.symbols('x')\n",
    "    return (xi-x[i])*(lagrange_basis(x,i)*lagrange_basis(x,i))\n"
   ],
   "metadata": {
    "collapsed": false
   }
  },
  {
   "cell_type": "markdown",
   "source": [
    "#### Example"
   ],
   "metadata": {
    "collapsed": false
   }
  },
  {
   "cell_type": "code",
   "execution_count": 292,
   "outputs": [
    {
     "name": "stdout",
     "output_type": "stream",
     "text": [
      "0.333125000000502\n"
     ]
    },
    {
     "data": {
      "text/plain": "-0.00250000000000056*x**5 + 0.042500000000012*x**4 - 0.295625000000065*x**3 + 1.07750000000024*x**2 - 2.17250000000028*x + 2.30000000000016",
      "text/latex": "$\\displaystyle - 0.00250000000000056 x^{5} + 0.042500000000012 x^{4} - 0.295625000000065 x^{3} + 1.07750000000024 x^{2} - 2.17250000000028 x + 2.30000000000016$"
     },
     "execution_count": 292,
     "metadata": {},
     "output_type": "execute_result"
    }
   ],
   "source": [
    "xi = sp.symbols('x')\n",
    "\n",
    "x = [2,2.5,4]\n",
    "x_eval = 3\n",
    "\n",
    "f = 1/xi\n",
    "df = sp.diff(f, xi)\n",
    "\n",
    "y = [f.subs(xi,x[i]) for i in range(len(x))]\n",
    "dy = [df.subs(xi,x[i]) for i in range(len(x))]\n",
    "\n",
    "H,val = hermite_interpolation(x,y,dy,x_eval)\n",
    "print(val)\n",
    "H"
   ],
   "metadata": {
    "collapsed": false
   }
  },
  {
   "cell_type": "code",
   "execution_count": 293,
   "outputs": [
    {
     "data": {
      "text/plain": "x**3 - 11*x**2/2 + 12*x - 11/2",
      "text/latex": "$\\displaystyle x^{3} - \\frac{11 x^{2}}{2} + 12 x - \\frac{11}{2}$"
     },
     "execution_count": 293,
     "metadata": {},
     "output_type": "execute_result"
    }
   ],
   "source": [
    "x = [1,3]\n",
    "f = [2,8]\n",
    "df = [4,6]\n",
    "\n",
    "H,val = hermite_interpolation(x,f,df,1)\n",
    "H"
   ],
   "metadata": {
    "collapsed": false
   }
  },
  {
   "cell_type": "code",
   "execution_count": null,
   "outputs": [],
   "source": [],
   "metadata": {
    "collapsed": false
   }
  }
 ],
 "metadata": {
  "kernelspec": {
   "display_name": "Python 3",
   "language": "python",
   "name": "python3"
  },
  "language_info": {
   "codemirror_mode": {
    "name": "ipython",
    "version": 2
   },
   "file_extension": ".py",
   "mimetype": "text/x-python",
   "name": "python",
   "nbconvert_exporter": "python",
   "pygments_lexer": "ipython2",
   "version": "2.7.6"
  }
 },
 "nbformat": 4,
 "nbformat_minor": 0
}
