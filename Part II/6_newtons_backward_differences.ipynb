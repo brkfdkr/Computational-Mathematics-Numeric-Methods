{
 "cells": [
  {
   "cell_type": "markdown",
   "source": [
    "## Forward Difference Function\n"
   ],
   "metadata": {
    "collapsed": false
   }
  },
  {
   "cell_type": "code",
   "execution_count": 13,
   "outputs": [],
   "source": [
    "def backward_diff_interpolation(x, f, x_eval):\n",
    "    \"\"\"\n",
    "    Backward Difference Interpolation Function\n",
    "\n",
    "    Parameters:\n",
    "        x (array-like): x values\n",
    "        f (array-like): f(x) values\n",
    "        x_eval (float): x value to evaluate the interpolated function at\n",
    "\n",
    "    Returns:\n",
    "        diff_matrix (list): The divided differences list\n",
    "        p_n (float): interpolated value of f(x_eval)\n",
    "    \"\"\"\n",
    "    s = (x_eval-x[-1]) / (x[1]-x[0])\n",
    "    n=len(x)\n",
    "\n",
    "    diff_matrix = [[1] * i for i in range(n, 0, -1)]\n",
    "    diff_matrix[0] = f\n",
    "\n",
    "    # Creating difference matrix\n",
    "    for i in range(n - 1):\n",
    "        diff_matrix[i + 1] = [(diff_matrix[i][j + 1] - diff_matrix[i][j]) for j in range(n - i - 1)]\n",
    "\n",
    "    p_n=f[-1]\n",
    "    for i in range(1,n):\n",
    "        perm_s_k = 1\n",
    "        for j in range(1,i+1):\n",
    "            perm_s_k *= (s+j-1)/j\n",
    "\n",
    "        p_n+=perm_s_k * diff_matrix[i][-1]\n",
    "\n",
    "    return diff_matrix,p_n"
   ],
   "metadata": {
    "collapsed": false
   }
  },
  {
   "cell_type": "markdown",
   "source": [
    "#### Example"
   ],
   "metadata": {
    "collapsed": false
   }
  },
  {
   "cell_type": "code",
   "execution_count": 14,
   "outputs": [],
   "source": [
    "x = [20, 24, 28, 32]\n",
    "f = [24,32,35,40]\n",
    "x_eval = 30"
   ],
   "metadata": {
    "collapsed": false
   }
  },
  {
   "cell_type": "code",
   "execution_count": 16,
   "outputs": [
    {
     "name": "stdout",
     "output_type": "stream",
     "text": [
      "36.8125\n"
     ]
    }
   ],
   "source": [
    "diff_matrix,value = backward_diff_interpolation(x,f,x_eval)\n",
    "print(value)"
   ],
   "metadata": {
    "collapsed": false
   }
  },
  {
   "cell_type": "code",
   "execution_count": 17,
   "outputs": [
    {
     "name": "stdout",
     "output_type": "stream",
     "text": [
      "---------  ----------------\n",
      "f(x)       [24, 32, 35, 40]\n",
      "Div Dif 1  [8, 3, 5]\n",
      "Div Dif 2  [-5, 2]\n",
      "Div Dif 3  [7]\n",
      "---------  ----------------\n"
     ]
    }
   ],
   "source": [
    "from tabulate import tabulate\n",
    "table = tabulate(zip(['f(x)']+['Div Dif {}'.format(i) for i in range(1, len(x))],diff_matrix))\n",
    "print(table)"
   ],
   "metadata": {
    "collapsed": false
   }
  },
  {
   "cell_type": "code",
   "execution_count": null,
   "outputs": [],
   "source": [],
   "metadata": {
    "collapsed": false
   }
  }
 ],
 "metadata": {
  "kernelspec": {
   "display_name": "Python 3",
   "language": "python",
   "name": "python3"
  },
  "language_info": {
   "codemirror_mode": {
    "name": "ipython",
    "version": 2
   },
   "file_extension": ".py",
   "mimetype": "text/x-python",
   "name": "python",
   "nbconvert_exporter": "python",
   "pygments_lexer": "ipython2",
   "version": "2.7.6"
  }
 },
 "nbformat": 4,
 "nbformat_minor": 0
}
