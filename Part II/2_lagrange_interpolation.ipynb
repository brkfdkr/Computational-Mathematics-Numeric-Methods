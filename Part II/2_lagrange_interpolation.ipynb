{
 "cells": [
  {
   "cell_type": "markdown",
   "source": [
    "## Lagrange Interpolation function"
   ],
   "metadata": {
    "collapsed": false
   },
   "execution_count": 1
  },
  {
   "cell_type": "code",
   "execution_count": 24,
   "outputs": [],
   "source": [
    "def lagrange_interpolation(x, y, x_eval):\n",
    "    \"\"\"\n",
    "    Perform Lagrange interpolation on the given data points and evaluate the polynomial at a given point.\n",
    "\n",
    "    Args:\n",
    "        x: An array-like object of x-coordinates of the data points.\n",
    "        y: An array-like object of y-coordinates of the data points.\n",
    "        x_eval: The x-coordinate at which to evaluate the polynomial.\n",
    "\n",
    "    Returns:\n",
    "        The value of the polynomial at x_eval.\n",
    "\n",
    "    Raises:\n",
    "        ValueError: If the length of x is not equal to the length of y.\n",
    "    \"\"\"\n",
    "\n",
    "    if len(x)!=len(y):\n",
    "        raise ValueError(\"x and y must have the same length\")\n",
    "\n",
    "    n = len(x)\n",
    "    g = 0.0 # function value\n",
    "    L = [1]*n # empty Lagrange basis\n",
    "    for i in range(n):\n",
    "        for k in range(n):\n",
    "            if k!=i:\n",
    "                L[i] *= (x_eval-x[k])/(x[i]-x[k]) # Creating Lagrange basis\n",
    "        g+=y[i]*L[i]\n",
    "\n",
    "    return L,g\n"
   ],
   "metadata": {
    "collapsed": false
   }
  },
  {
   "cell_type": "code",
   "execution_count": 28,
   "outputs": [
    {
     "name": "stdout",
     "output_type": "stream",
     "text": [
      "Func: 1/x\n",
      "x: [2, 2.5, 4]\n",
      "y: [0.5, 0.4, 0.25]\n",
      "\n",
      "Our result from lagrange interpolation at 3 is: \n",
      " g(3): 0.5*-0.5 + 0.4*1.33333 + 0.25*0.16667  =  0.325\n"
     ]
    }
   ],
   "source": [
    "x = [2,2.5,4]\n",
    "\n",
    "def func1(x):\n",
    "    return [1/i for i in x]\n",
    "y = func1(x)\n",
    "x_eval=3\n",
    "L,val = lagrange_interpolation(x,func1(x),x_eval)\n",
    "print(\"Func: 1/x\\nx:\",x)\n",
    "print(\"y:\",func1(x))\n",
    "print(f\"\\nOur result from lagrange interpolation at {x_eval} is: \\n g({x_eval}):\", \" + \".join([str(y[i])+\"*\"+str(round(L[i],5)) for i in range(len(x))]),\" = \",round(val,5))"
   ],
   "metadata": {
    "collapsed": false
   }
  },
  {
   "cell_type": "code",
   "execution_count": null,
   "outputs": [],
   "source": [],
   "metadata": {
    "collapsed": false
   }
  }
 ],
 "metadata": {
  "kernelspec": {
   "display_name": "Python 3",
   "language": "python",
   "name": "python3"
  },
  "language_info": {
   "codemirror_mode": {
    "name": "ipython",
    "version": 2
   },
   "file_extension": ".py",
   "mimetype": "text/x-python",
   "name": "python",
   "nbconvert_exporter": "python",
   "pygments_lexer": "ipython2",
   "version": "2.7.6"
  }
 },
 "nbformat": 4,
 "nbformat_minor": 0
}
