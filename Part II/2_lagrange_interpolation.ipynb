{
 "cells": [
  {
   "cell_type": "markdown",
   "source": [
    "## Lagrange Interpolation function"
   ],
   "metadata": {
    "collapsed": false
   },
   "execution_count": 1
  },
  {
   "cell_type": "code",
   "execution_count": 103,
   "outputs": [],
   "source": [
    "def lagrange_interpolation(x, y, x_eval):\n",
    "    \"\"\"\n",
    "    Perform Lagrange interpolation on the given data points and evaluate the polynomial at a given point.\n",
    "\n",
    "    Args:\n",
    "        x: An array-like object of x-coordinates of the data points.\n",
    "        y: An array-like object of y-coordinates of the data points.\n",
    "        x_eval: The x-coordinate at which to evaluate the polynomial.\n",
    "\n",
    "    Returns:\n",
    "        The value of the polynomial at x_eval.\n",
    "\n",
    "    Raises:\n",
    "        ValueError: If the length of x is not equal to the length of y.\n",
    "    \"\"\"\n",
    "\n",
    "    if len(x)!=len(y):\n",
    "        raise ValueError(\"x and y must have the same length\")\n",
    "\n",
    "    n = len(x)\n",
    "    g = 0.0 # function value\n",
    "    L = [1]*n # Empty Lagrange basis\n",
    "    L_poly = 0 # Empty Lagrange polynomial\n",
    "    x_symb = sympy.symbols('x') # Symbolic variable for the Lagrange polynomial\n",
    "    for i in range(n):\n",
    "        for k in range(n):\n",
    "            if k!=i:\n",
    "                L[i] *= (x_eval-x[k])/(x[i]-x[k]) # Creating Lagrange basis\n",
    "        g+=y[i]*L[i]\n",
    "\n",
    "    return L,g\n"
   ],
   "metadata": {
    "collapsed": false
   }
  },
  {
   "cell_type": "markdown",
   "source": [
    "#### Example"
   ],
   "metadata": {
    "collapsed": false
   },
   "execution_count": 1
  },
  {
   "cell_type": "code",
   "execution_count": 104,
   "outputs": [
    {
     "name": "stdout",
     "output_type": "stream",
     "text": [
      "Func: 1/x\n",
      "x: [2, 2.5, 4]\n",
      "y: [0.5, 0.4, 0.25]\n",
      "\n",
      "Our result from lagrange interpolation at 3 is: \n",
      " g(3): 0.5*-0.5 + 0.4*1.33333 + 0.25*0.16667  =  0.325\n"
     ]
    }
   ],
   "source": [
    "x = [2,2.5,4]\n",
    "\n",
    "def func1(x):\n",
    "    return [1/i for i in x]\n",
    "y = func1(x)\n",
    "x_eval=3\n",
    "L,val = lagrange_interpolation(x,func1(x),x_eval)\n",
    "print(\"Func: 1/x\\nx:\",x)\n",
    "print(\"y:\",func1(x))\n",
    "print(f\"\\nOur result from lagrange interpolation at {x_eval} is: \\n g({x_eval}):\", \" + \".join([str(y[i])+\"*\"+str(round(L[i],5)) for i in range(len(x))]),\" = \",round(val,5))"
   ],
   "metadata": {
    "collapsed": false
   }
  },
  {
   "cell_type": "markdown",
   "source": [
    "## Updated version that returns polynomial"
   ],
   "metadata": {
    "collapsed": false
   }
  },
  {
   "cell_type": "code",
   "execution_count": 111,
   "outputs": [],
   "source": [
    "import sympy\n",
    "\n",
    "def lagrange_interpolation_p(x, y, x_eval=0):\n",
    "    \"\"\"\n",
    "    Perform Lagrange interpolation on the given data points and evaluate the polynomial at a given point.\n",
    "\n",
    "    Args:\n",
    "        x: An array-like object of x-coordinates of the data points.\n",
    "        y: An array-like object of y-coordinates of the data points.\n",
    "        x_eval: The x-coordinate at which to evaluate the polynomial.\n",
    "\n",
    "    Returns:\n",
    "        The value of the polynomial at x_eval and the formula of the Lagrange polynomial.\n",
    "\n",
    "    Raises:\n",
    "        ValueError: If the length of x is not equal to the length of y.\n",
    "    \"\"\"\n",
    "    if len(x) != len(y):\n",
    "        raise ValueError(\"x and y must have the same length\")\n",
    "\n",
    "    n = len(x)\n",
    "    g = 0.0 # function value\n",
    "    L = [1]*n # empty Lagrange basis\n",
    "    Lagrange_poly = 0 # Empty Lagrange polynomial\n",
    "    x_symb = sympy.symbols('x') # Symbolic variable for the Lagrange polynomial\n",
    "    for i in range(n):\n",
    "        basis = 1 # Current Lagrange basis\n",
    "        for k in range(n):\n",
    "            if k != i:\n",
    "                basis *= (x_symb - x[k])/(x[i] - x[k]) # Creating Lagrange basis\n",
    "        Lagrange_poly += basis * y[i] # Adding term to the Lagrange polynomial\n",
    "        L[i] = basis.subs(x_symb, x_eval) # Evaluating the Lagrange basis at x_eval\n",
    "        g += y[i] * L[i] # Evaluating the function at x_eval\n",
    "\n",
    "    Lagrange_poly = sympy.simplify(Lagrange_poly) # Simplifying the Lagrange polynomial\n",
    "\n",
    "    return g, Lagrange_poly"
   ],
   "metadata": {
    "collapsed": false
   }
  },
  {
   "cell_type": "code",
   "execution_count": 112,
   "outputs": [
    {
     "name": "stdout",
     "output_type": "stream",
     "text": [
      "\n",
      "Interpolation polynomial is: \n"
     ]
    },
    {
     "data": {
      "text/plain": "-11*x**4/30 + 19*x**3/5 - 241*x**2/30 - 21*x/5 + 5",
      "text/latex": "$\\displaystyle - \\frac{11 x^{4}}{30} + \\frac{19 x^{3}}{5} - \\frac{241 x^{2}}{30} - \\frac{21 x}{5} + 5$"
     },
     "metadata": {},
     "output_type": "display_data"
    }
   ],
   "source": [
    "x = [-1,0,3,4,7]\n",
    "y = [-3,5,-7,9,5]\n",
    "g,L_poly = lagrange_interpolation_p(x,y)\n",
    "print(f\"\\nInterpolation polynomial is: \")\n",
    "\n",
    "from IPython.display import display\n",
    "\n",
    "display(L_poly)"
   ],
   "metadata": {
    "collapsed": false
   }
  },
  {
   "cell_type": "code",
   "execution_count": 113,
   "outputs": [
    {
     "data": {
      "text/plain": "181/5",
      "text/latex": "$\\displaystyle \\frac{181}{5}$"
     },
     "execution_count": 113,
     "metadata": {},
     "output_type": "execute_result"
    }
   ],
   "source": [
    "L_poly.subs('x',6)"
   ],
   "metadata": {
    "collapsed": false
   }
  },
  {
   "cell_type": "code",
   "execution_count": 114,
   "outputs": [],
   "source": [
    "x1 = sympy.symbols('x') # Symbolic variable for the Lagrange polynomial\n",
    "\n",
    "poly_5 = ((x1+1)*(x1-0)*(x1-3)*(x1-4)*(x1-7))*0.11190476190476192\n"
   ],
   "metadata": {
    "collapsed": false
   }
  },
  {
   "cell_type": "code",
   "execution_count": 115,
   "outputs": [
    {
     "data": {
      "text/plain": "0.111904761904762*x**5 - 1.82142857142857*x**4 + 9.05952380952381*x**3 - 10.6071428571429*x**2 - 13.6*x + 5.0",
      "text/latex": "$\\displaystyle 0.111904761904762 x^{5} - 1.82142857142857 x^{4} + 9.05952380952381 x^{3} - 10.6071428571429 x^{2} - 13.6 x + 5.0$"
     },
     "execution_count": 115,
     "metadata": {},
     "output_type": "execute_result"
    }
   ],
   "source": [
    "sympy.simplify(L_poly+poly_5)"
   ],
   "metadata": {
    "collapsed": false
   }
  }
 ],
 "metadata": {
  "kernelspec": {
   "display_name": "Python 3",
   "language": "python",
   "name": "python3"
  },
  "language_info": {
   "codemirror_mode": {
    "name": "ipython",
    "version": 2
   },
   "file_extension": ".py",
   "mimetype": "text/x-python",
   "name": "python",
   "nbconvert_exporter": "python",
   "pygments_lexer": "ipython2",
   "version": "2.7.6"
  }
 },
 "nbformat": 4,
 "nbformat_minor": 0
}
