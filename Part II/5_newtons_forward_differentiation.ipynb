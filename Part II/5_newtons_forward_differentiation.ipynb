{
 "cells": [
  {
   "cell_type": "markdown",
   "source": [
    "* If the distance between x's is constant, it is more advantageous to use finite difference instead of divided difference."
   ],
   "metadata": {
    "collapsed": false
   }
  },
  {
   "cell_type": "markdown",
   "source": [
    "## Forward Difference Function"
   ],
   "metadata": {
    "collapsed": false
   }
  },
  {
   "cell_type": "code",
   "execution_count": 38,
   "outputs": [],
   "source": [
    "def forward_diff_interpolation(x, f, x_eval):\n",
    "    \"\"\"\n",
    "    Forward Difference Interpolation Function\n",
    "\n",
    "    Parameters:\n",
    "        x (array-like): x values\n",
    "        f (array-like): f(x) values\n",
    "        x_eval (float): x value to evaluate the interpolated function at\n",
    "\n",
    "    Returns:\n",
    "        diff_matrix (list): The divided differences list\n",
    "        p_n (float): interpolated value of f(x_eval)\n",
    "    \"\"\"\n",
    "    s = (x_eval-x[0]) / (x[1]-x[0])\n",
    "    n=len(x)\n",
    "\n",
    "    diff_matrix = [[1] * i for i in range(n, 0, -1)]\n",
    "    diff_matrix[0] = f\n",
    "\n",
    "    # Creating difference matrix\n",
    "    for i in range(n - 1):\n",
    "        diff_matrix[i + 1] = [(diff_matrix[i][j + 1] - diff_matrix[i][j]) for j in range(n - i - 1)]\n",
    "\n",
    "    p_n=f[0]\n",
    "    for i in range(1,n):\n",
    "        perm_s_k = 1\n",
    "        for j in range(1,i+1):\n",
    "            perm_s_k *= (s-j+1)/j\n",
    "\n",
    "        p_n+=perm_s_k * diff_matrix[i][0]\n",
    "\n",
    "    return diff_matrix,p_n"
   ],
   "metadata": {
    "collapsed": false
   }
  },
  {
   "cell_type": "markdown",
   "source": [
    "#### Example"
   ],
   "metadata": {
    "collapsed": false
   }
  },
  {
   "cell_type": "code",
   "execution_count": 39,
   "outputs": [],
   "source": [
    "x = [1891, 1901, 1911, 1921, 1931]\n",
    "f = [46,66,81,93,101]\n",
    "x_eval = 1895"
   ],
   "metadata": {
    "collapsed": false
   }
  },
  {
   "cell_type": "code",
   "execution_count": 40,
   "outputs": [
    {
     "name": "stdout",
     "output_type": "stream",
     "text": [
      "54.8528\n"
     ]
    }
   ],
   "source": [
    "diff_matrix,value = forward_diff_interpolation(x,f,x_eval)\n",
    "print(value)"
   ],
   "metadata": {
    "collapsed": false
   }
  },
  {
   "cell_type": "code",
   "execution_count": 47,
   "outputs": [
    {
     "name": "stdout",
     "output_type": "stream",
     "text": [
      "---------  ---------------------\n",
      "f(x)       [46, 66, 81, 93, 101]\n",
      "Div Dif 1  [20, 15, 12, 8]\n",
      "Div Dif 2  [-5, -3, -4]\n",
      "Div Dif 3  [2, -1]\n",
      "Div Dif 4  [-3]\n",
      "---------  ---------------------\n"
     ]
    }
   ],
   "source": [
    "from tabulate import tabulate\n",
    "table = tabulate(zip(['f(x)']+['Div Dif {}'.format(i) for i in range(1, len(x))],diff_matrix))\n",
    "print(table)"
   ],
   "metadata": {
    "collapsed": false
   }
  }
 ],
 "metadata": {
  "kernelspec": {
   "display_name": "Python 3",
   "language": "python",
   "name": "python3"
  },
  "language_info": {
   "codemirror_mode": {
    "name": "ipython",
    "version": 2
   },
   "file_extension": ".py",
   "mimetype": "text/x-python",
   "name": "python",
   "nbconvert_exporter": "python",
   "pygments_lexer": "ipython2",
   "version": "2.7.6"
  }
 },
 "nbformat": 4,
 "nbformat_minor": 0
}
