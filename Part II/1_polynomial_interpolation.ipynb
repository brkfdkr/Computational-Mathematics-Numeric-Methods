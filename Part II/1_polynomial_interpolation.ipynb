{
 "cells": [
  {
   "cell_type": "markdown",
   "source": [
    "## Polynomial Interpolation Function"
   ],
   "metadata": {
    "collapsed": false
   },
   "execution_count": 1
  },
  {
   "cell_type": "code",
   "execution_count": 11,
   "outputs": [],
   "source": [
    "def polynomial_interpolation(x, y, x_eval):\n",
    "    \"\"\"\n",
    "    Perform polynomial interpolation on the given data points and evaluate the polynomial at a given point.\n",
    "\n",
    "    Args:\n",
    "        x: An array-like object of x-coordinates of the data points.\n",
    "        y: An array-like object of y-coordinates of the data points.\n",
    "        x_eval: The x-coordinate at which to evaluate the polynomial.\n",
    "\n",
    "    Returns:\n",
    "        A tuple containing the following elements:\n",
    "        - coefficients: A list of the coefficients of the polynomial, ordered from lowest to highest degree.\n",
    "        - value: The value of the polynomial at x_eval.\n",
    "\n",
    "    Raises:\n",
    "        ValueError: If the length of x is not equal to the length of y.\n",
    "    \"\"\"\n",
    "    # Condition\n",
    "    if len(x)!=len(y):\n",
    "        raise ValueError(\"x and y must have the same length\")\n",
    "\n",
    "\n",
    "    n = len(x) # degree of polynomial is  n-1 (n is num of elements of x and since we use range(n), this gives value 0 to n-1)\n",
    "    A = [[x[i]**j for j in range(n)] for i in range(n)] # Vandermonde matrix\n",
    "    b = y # clarification for Ax=b\n",
    "    # Solve the system of linear equations using Gaussian elimination\n",
    "    for i in range(n):\n",
    "        if A[i][i] == 0:\n",
    "            raise ZeroDivisionError(\"division by zero\")\n",
    "        for j in range(i+1, n):\n",
    "            ratio = A[j][i] / A[i][i]\n",
    "            for k in range(n):\n",
    "                A[j][k] -= ratio * A[i][k]\n",
    "            b[j] -= ratio * b[i]\n",
    "\n",
    "    # Finding coefficients of polynomial\n",
    "    # coefficients : x in Ax = b\n",
    "    coefficients = [0] * n # empty list\n",
    "    for i in range(n-1,-1,-1):\n",
    "        coefficients[i] = b[i] / A[i][i]\n",
    "        for j in range(i-1, -1, -1):\n",
    "            b[j] -= A[j][i] * coefficients[i]\n",
    "\n",
    "    # coefficients : x in Ax = b\n",
    "\n",
    "    value = sum(coefficients[i] * x_eval ** i for i in range(n))\n",
    "\n",
    "    return coefficients, value"
   ],
   "metadata": {
    "collapsed": false
   }
  },
  {
   "cell_type": "markdown",
   "source": [
    "#### Example"
   ],
   "metadata": {
    "collapsed": false
   }
  },
  {
   "cell_type": "code",
   "execution_count": 65,
   "outputs": [
    {
     "name": "stdout",
     "output_type": "stream",
     "text": [
      "Func: 1/x\n",
      "x: [2, 2.5, 4]\n",
      "y: [0.5, 0.4, 0.25]\n",
      "\n",
      "Our polynomial obtained from interpolation is: \n",
      " g(x): 1.15*x^0 + -0.4249999999999998*x^1 + 0.04999999999999997*x^2\n",
      "The value of the polynomial at 3:\n",
      " 0.325\n"
     ]
    }
   ],
   "source": [
    "x = [2,2.5,4]\n",
    "def func1(x):\n",
    "    return [1/i for i in x]\n",
    "x_eval=3\n",
    "coef,val = polynomial_interpolation(x,func1(x),x_eval)\n",
    "print(\"Func: 1/x\\nx:\",x)\n",
    "print(\"y:\",func1(x))\n",
    "print(\"\\nOur polynomial obtained from interpolation is: \\n g(x):\",\" + \".join([str(coef[i])+\"*\"+\"x^\"+str(i) for i in range(len(coef))]))\n",
    "print(f\"The value of the polynomial at {x_eval}:\\n\",round(val,5))"
   ],
   "metadata": {
    "collapsed": false
   }
  },
  {
   "cell_type": "markdown",
   "source": [
    "## Polynomial Interpolation Function with NumPy"
   ],
   "metadata": {
    "collapsed": false
   }
  },
  {
   "cell_type": "code",
   "execution_count": 61,
   "outputs": [],
   "source": [
    "import numpy as np\n",
    "\n",
    "def polynomial_interpolation_numpy(x, y, x_eval):\n",
    "    \"\"\"\n",
    "    Perform polynomial interpolation on the given data points and evaluate the polynomial at a given point.\n",
    "\n",
    "    Args:\n",
    "        x: An array-like object of x-coordinates of the data points.\n",
    "        y: An array-like object of y-coordinates of the data points.\n",
    "        x_eval: The x-coordinate at which to evaluate the polynomial.\n",
    "\n",
    "    Returns:\n",
    "        A tuple containing the following elements:\n",
    "        - coefficients: A list of the coefficients of the polynomial, ordered from lowest to highest degree.\n",
    "        - value: The value of the polynomial at x_eval.\n",
    "\n",
    "    Raises:\n",
    "        ValueError: If the length of x is not equal to the length of y.\n",
    "    \"\"\"\n",
    "\n",
    "    if len(x) != len(y):\n",
    "        raise ValueError(\"x and y must have the same length\")\n",
    "\n",
    "    n = len(x) # degree of polynomial is  n-1 (n is num of elements of x and since we use range(n), this gives value 0 to n-1)\n",
    "    V = np.vander(x, increasing=True) # Vandermonde matrix\n",
    "    c = np.linalg.solve(V, y) # Solve for the coefficients\n",
    "\n",
    "    # Evaluate the polynomial at x_eval\n",
    "    value = np.polyval(c, x_eval)\n",
    "\n",
    "    return c, value"
   ],
   "metadata": {
    "collapsed": false
   }
  },
  {
   "cell_type": "markdown",
   "source": [
    "#### Example"
   ],
   "metadata": {
    "collapsed": false
   }
  },
  {
   "cell_type": "code",
   "execution_count": 62,
   "outputs": [
    {
     "name": "stdout",
     "output_type": "stream",
     "text": [
      "Polynomial Interpolation with NumPy\n",
      "Func: 1/x\n",
      "x: [2, 2.5, 4]\n",
      "y: [0.5, 0.4, 0.25]\n",
      "\n",
      "Our polynomial obtained from interpolation is: \n",
      " 1.15*x^0 + -0.4249999999999998*x^1 + 0.04999999999999997*x^2\n",
      "The value of the polynomial at 3:\n",
      " 9.125\n"
     ]
    }
   ],
   "source": [
    "x = [2,2.5,4]\n",
    "def func1(x):\n",
    "    return [1/i for i in x]\n",
    "x_eval=3\n",
    "coef,val = polynomial_interpolation_numpy(x,func1(x),x_eval)\n",
    "print(\"Polynomial Interpolation with NumPy\")\n",
    "print(\"Func: 1/x\\nx:\",x)\n",
    "print(\"y:\",func1(x))\n",
    "print(\"\\nOur polynomial obtained from interpolation is: \\n\",\" + \".join([str(coef[i])+\"*\"+\"x^\"+str(i) for i in range(len(coef))]))\n",
    "print(f\"The value of the polynomial at {x_eval}:\\n\",round(val,5))"
   ],
   "metadata": {
    "collapsed": false
   }
  }
 ],
 "metadata": {
  "kernelspec": {
   "display_name": "Python 3",
   "language": "python",
   "name": "python3"
  },
  "language_info": {
   "codemirror_mode": {
    "name": "ipython",
    "version": 2
   },
   "file_extension": ".py",
   "mimetype": "text/x-python",
   "name": "python",
   "nbconvert_exporter": "python",
   "pygments_lexer": "ipython2",
   "version": "2.7.6"
  }
 },
 "nbformat": 4,
 "nbformat_minor": 0
}
