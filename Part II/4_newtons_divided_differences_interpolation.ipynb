{
 "cells": [
  {
   "cell_type": "markdown",
   "source": [],
   "metadata": {
    "collapsed": false
   }
  },
  {
   "cell_type": "markdown",
   "source": [
    "## Newton's Divided Differences Interpolation Function"
   ],
   "metadata": {
    "collapsed": false
   },
   "execution_count": 1
  },
  {
   "cell_type": "code",
   "execution_count": 28,
   "outputs": [],
   "source": [
    "def newton_divided_differences_interpolation(x, f, x_eval):\n",
    "\n",
    "    \"\"\"\n",
    "    Calculates the Newton's divided differences interpolation polynomial for a given set of data points and an evaluation point.\n",
    "\n",
    "    Args:\n",
    "        x (array_like): The x-coordinates of the data points.\n",
    "        f (array_like): The y-coordinates of the data points.\n",
    "        x_eval (float): The point at which to evaluate the interpolation polynomial.\n",
    "\n",
    "    Returns:\n",
    "        float: The value of the interpolation polynomial at x_eval.\n",
    "        list: The divided differences list\n",
    "\n",
    "    Raises:\n",
    "        ValueError: If x and f are not the same length.\n",
    "    \"\"\"\n",
    "    n = len(x)\n",
    "\n",
    "    # Check that x and f have the same length\n",
    "    if len(f) != n:\n",
    "        raise ValueError(\"Arrays x and f must have the same length.\")\n",
    "\n",
    "    # Matrix stores the list of differences\n",
    "    # diff_matrix[0] = f(x), diff_matrix[1] = first divided difference, etc.\n",
    "    diff_matrix = [[1] * i for i in range(n, 0, -1)]\n",
    "    diff_matrix[0] = f\n",
    "\n",
    "    # Creating difference matrix\n",
    "    for i in range(n - 1):\n",
    "        diff_matrix[i + 1] = [(diff_matrix[i][j + 1] - diff_matrix[i][j]) / (x[j + 1 + i] - x[j])\n",
    "                             for j in range(n - i - 1)]\n",
    "\n",
    "    # Polynomial\n",
    "    p = diff_matrix[0][0]\n",
    "    for i in range(1, n):\n",
    "        p_temp = diff_matrix[i][0]\n",
    "        for j in range(i):\n",
    "            p_temp *= (x_eval - x[j])\n",
    "        p += p_temp\n",
    "\n",
    "    return diff_matrix,p"
   ],
   "metadata": {
    "collapsed": false
   }
  },
  {
   "cell_type": "markdown",
   "source": [
    "#### Example"
   ],
   "metadata": {
    "collapsed": false
   }
  },
  {
   "cell_type": "code",
   "execution_count": 29,
   "outputs": [
    {
     "name": "stdout",
     "output_type": "stream",
     "text": [
      "0.5117975308641974\n",
      "[[0.7651, 0.62, 0.4554, 0.2818, 0.1103], [-0.48366666666666663, -0.5486666666666665, -0.5786666666666671, -0.5716666666666661], [-0.10833333333333314, -0.05000000000000098, 0.011666666666668341], [0.06481481481481352, 0.06851851851852146], [0.003086419753089951]]\n"
     ]
    }
   ],
   "source": [
    "x = [1, 1.3, 1.6, 1.9, 2.2]\n",
    "f = [0.7651, 0.62, 0.4554, 0.2818, 0.1103]\n",
    "x_eval = 1.5\n",
    "\n",
    "diff_matrix,value = newton_divided_differences_interpolation(x,f,x_eval)\n",
    "print(value)\n",
    "print(diff_matrix)"
   ],
   "metadata": {
    "collapsed": false
   }
  },
  {
   "cell_type": "code",
   "execution_count": 36,
   "outputs": [
    {
     "name": "stdout",
     "output_type": "stream",
     "text": [
      "       f(x)    Div Dif 1    Div Dif 2    Div Dif 3    Div Dif 4\n",
      "-----------  -----------  -----------  -----------  -----------\n",
      " 0.7651        0.62         0.4554        0.2818         0.1103\n",
      "-0.483667     -0.548667    -0.578667     -0.571667\n",
      "-0.108333     -0.05         0.0116667\n",
      " 0.0648148     0.0685185\n",
      " 0.00308642\n"
     ]
    }
   ],
   "source": [
    "from tabulate import tabulate\n",
    "table = tabulate(diff_matrix, headers=['f(x)']+['Div Dif {}'.format(i) for i in range(1, len(x))])\n",
    "print(table)"
   ],
   "metadata": {
    "collapsed": false
   }
  }
 ],
 "metadata": {
  "kernelspec": {
   "display_name": "Python 3",
   "language": "python",
   "name": "python3"
  },
  "language_info": {
   "codemirror_mode": {
    "name": "ipython",
    "version": 2
   },
   "file_extension": ".py",
   "mimetype": "text/x-python",
   "name": "python",
   "nbconvert_exporter": "python",
   "pygments_lexer": "ipython2",
   "version": "2.7.6"
  }
 },
 "nbformat": 4,
 "nbformat_minor": 0
}
