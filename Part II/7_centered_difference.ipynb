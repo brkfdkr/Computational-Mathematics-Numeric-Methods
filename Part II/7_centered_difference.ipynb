{
 "cells": [
  {
   "cell_type": "markdown",
   "source": [
    "## Centred Difference Function (Stirling Algorithm)"
   ],
   "metadata": {
    "collapsed": false
   },
   "execution_count": 1
  },
  {
   "cell_type": "code",
   "execution_count": 89,
   "outputs": [],
   "source": [
    "from math import ceil"
   ],
   "metadata": {
    "collapsed": false
   }
  },
  {
   "cell_type": "code",
   "execution_count": 90,
   "outputs": [],
   "source": [
    "def centered_difference(x,f,x_eval):\n",
    "    \"\"\"\n",
    "    Centered Difference Interpolation Function\n",
    "\n",
    "    Parameters:\n",
    "        x (array-like): x values\n",
    "        f (array-like): f(x) values\n",
    "        x_eval (float): x value to evaluate the interpolated function at\n",
    "\n",
    "    Returns:\n",
    "        diff_matrix (list): The divided differences list\n",
    "        p_n (float): interpolated value of f(x_eval)\n",
    "    \"\"\"\n",
    "\n",
    "    s = (x_eval-x_0)/(x[1]-x[0])\n",
    "    n=len(x)\n",
    "\n",
    "    # Creating difference matrix\n",
    "    diff_matrix = [[1] * i for i in range(n, 0, -1)]\n",
    "    diff_matrix[0] = f\n",
    "\n",
    "    for i in range(n - 1):\n",
    "        diff_matrix[i + 1] = [(diff_matrix[i][j + 1] - diff_matrix[i][j]) for j in range(n - i - 1)]\n",
    "\n",
    "    # Defining f(0)\n",
    "    if n//2 == 0:\n",
    "        E1 = diff_matrix[0][int(len(diff_matrix[0])/2)]\n",
    "        E2 = diff_matrix[0][int(len(diff_matrix[0])/2-1)]\n",
    "        p_n = (E1+E2)/2\n",
    "    else :\n",
    "        E3 = diff_matrix[0][int(len(diff_matrix[0])/2)]\n",
    "        p_n = E3\n",
    "\n",
    "    #iterate over i, 1 to n\n",
    "    for i in range(1,ceil(n/2)):\n",
    "        perm_s_k = 1\n",
    "        for j in range(0,2*i-1):\n",
    "            perm_s_k *= (s+i-j-1)/(j+1) # for i=3 (j = 0,1,2,3,4) C(s+2,4)\n",
    "        # Creating the average operator\n",
    "        E1 = diff_matrix[2*i-1][int(len(diff_matrix[2*i-1])/2)]\n",
    "        E2 = diff_matrix[2*i-1][int(len(diff_matrix[2*i-1])/2-1)]\n",
    "        p_n+=perm_s_k*(E1+E2)/2\n",
    "\n",
    "        E3 = diff_matrix[2*i][int(len(diff_matrix[2*i])/2)]\n",
    "        p_n+=s*perm_s_k*E3/(2*i)\n",
    "\n",
    "\n",
    "    return diff_matrix,p_n"
   ],
   "metadata": {
    "collapsed": false
   }
  },
  {
   "cell_type": "markdown",
   "source": [
    "#### Example"
   ],
   "metadata": {
    "collapsed": false
   }
  },
  {
   "cell_type": "code",
   "execution_count": 93,
   "outputs": [],
   "source": [
    "x = [0, 1, 2, 3, 4]\n",
    "f = [-5, 1, 9, 25, 55]\n",
    "x_eval = 2.5\n",
    "x_0 = x[int(len(x)/2)]"
   ],
   "metadata": {
    "collapsed": false
   }
  },
  {
   "cell_type": "code",
   "execution_count": 94,
   "outputs": [
    {
     "name": "stdout",
     "output_type": "stream",
     "text": [
      "15.625\n"
     ]
    }
   ],
   "source": [
    "diff_matrix,value =centered_difference(x,f,x_eval)\n",
    "print(value)"
   ],
   "metadata": {
    "collapsed": false
   }
  },
  {
   "cell_type": "code",
   "execution_count": 95,
   "outputs": [
    {
     "name": "stdout",
     "output_type": "stream",
     "text": [
      "---------  ------------------\n",
      "f(x)       [-5, 1, 9, 25, 55]\n",
      "Div Dif 1  [6, 8, 16, 30]\n",
      "Div Dif 2  [2, 8, 14]\n",
      "Div Dif 3  [6, 6]\n",
      "Div Dif 4  [0]\n",
      "---------  ------------------\n"
     ]
    }
   ],
   "source": [
    "from tabulate import tabulate\n",
    "table = tabulate(zip(['f(x)']+['Div Dif {}'.format(i) for i in range(1, len(x))],diff_matrix))\n",
    "print(table)"
   ],
   "metadata": {
    "collapsed": false
   }
  }
 ],
 "metadata": {
  "kernelspec": {
   "display_name": "Python 3",
   "language": "python",
   "name": "python3"
  },
  "language_info": {
   "codemirror_mode": {
    "name": "ipython",
    "version": 2
   },
   "file_extension": ".py",
   "mimetype": "text/x-python",
   "name": "python",
   "nbconvert_exporter": "python",
   "pygments_lexer": "ipython2",
   "version": "2.7.6"
  }
 },
 "nbformat": 4,
 "nbformat_minor": 0
}
