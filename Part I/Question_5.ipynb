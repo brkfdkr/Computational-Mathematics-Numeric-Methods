{
 "cells": [
  {
   "cell_type": "markdown",
   "source": [
    "## Function for \"Newton Method for Systems\""
   ],
   "metadata": {
    "collapsed": false
   },
   "execution_count": 1
  },
  {
   "cell_type": "code",
   "execution_count": 5,
   "outputs": [],
   "source": [
    "import numpy as np"
   ],
   "metadata": {
    "collapsed": false
   }
  },
  {
   "cell_type": "code",
   "execution_count": 54,
   "metadata": {
    "collapsed": true
   },
   "outputs": [],
   "source": [
    "\n",
    "\n",
    "def newton_system(F, J, x0, tol=1e-6, max_iters=100):\n",
    "    \"\"\"\n",
    "    Solve a system of nonlinear equations F(x) = 0 using Newton's method.\n",
    "\n",
    "    Parameters:\n",
    "    -----------\n",
    "    F : function\n",
    "        A function that takes a 1D numpy array x and returns a 1D numpy array F(x).\n",
    "    J : function\n",
    "        A function that takes a 1D numpy array x and returns a 2D numpy array J(x), the Jacobian matrix of F(x).\n",
    "    x0 : numpy array\n",
    "        The initial guess for the root, as a 1D numpy array.\n",
    "    tol : float\n",
    "        Tolerance for convergence.\n",
    "    maxiter : int\n",
    "        Maximum number of iterations.\n",
    "\n",
    "    Returns:\n",
    "    --------\n",
    "    x : numpy array\n",
    "        Approximate root of F(x) = 0, as a 1D numpy array.\n",
    "    i : int\n",
    "        Number of iterations used.\n",
    "    \"\"\"\n",
    "\n",
    "    # Initialize variables\n",
    "    x = x0.copy().astype(\"float64\")\n",
    "    i = 0\n",
    "\n",
    "    # Iterate until convergence or max iterations reached\n",
    "    while i < max_iters:\n",
    "        fx = F(x)\n",
    "        Jx = J(x)\n",
    "        dx = np.linalg.solve(Jx, -fx)\n",
    "        x += dx.astype(\"float64\")\n",
    "        if np.linalg.norm(dx) < tol:\n",
    "            break\n",
    "        i += 1\n",
    "\n",
    "    return x, i"
   ]
  },
  {
   "cell_type": "markdown",
   "source": [
    "## Defining main function"
   ],
   "metadata": {
    "collapsed": false
   }
  },
  {
   "cell_type": "code",
   "execution_count": 55,
   "outputs": [],
   "source": [
    "# Main function\n",
    "def F(x):\n",
    "    f1 = 3*x[0]**2 + 2*x[1]**2 - 14\n",
    "    f2 = 4*x[0]*x[1] - x[1] - 9\n",
    "    return np.array([f1, f2])\n",
    "# the Jacobian matrix of F(x).\n",
    "def J(x):\n",
    "    j11 = 6*x[0]\n",
    "    j12 = 4*x[1]\n",
    "    j21 = 4*x[1]\n",
    "    j22 = 4*x[1] - 1\n",
    "    return np.array([[j11, j12], [j21, j22]])"
   ],
   "metadata": {
    "collapsed": false
   }
  },
  {
   "cell_type": "markdown",
   "source": [
    "### Output"
   ],
   "metadata": {
    "collapsed": false
   }
  },
  {
   "cell_type": "code",
   "execution_count": 66,
   "outputs": [
    {
     "name": "stdout",
     "output_type": "stream",
     "text": [
      "Initial Point [-1  0]\n",
      "Approximate solution:  [-1.92030945 -1.59600831]\n",
      "Number of iterations:  3000\n",
      "Value of the function with solution [2.15725022 4.85532769]\n"
     ]
    }
   ],
   "source": [
    "# Initial point\n",
    "x0 = np.array([-1, 0])\n",
    "\n",
    "# Solve the system\n",
    "x, i = newton_system(F, J, x0,tol=1e-2,max_iters=3000)\n",
    "\n",
    "# Print the results\n",
    "print(\"Initial Point\",x0)\n",
    "print(\"Approximate solution: \", x)\n",
    "print(\"Number of iterations: \", i)\n",
    "print(\"Value of the function with solution\",F(x))"
   ],
   "metadata": {
    "collapsed": false
   }
  },
  {
   "cell_type": "markdown",
   "source": [
    "* Even after 3000 iterations the result is not close 0 out initial point [-1,0] may not be optimal."
   ],
   "metadata": {
    "collapsed": false
   }
  },
  {
   "cell_type": "code",
   "execution_count": 67,
   "outputs": [
    {
     "name": "stdout",
     "output_type": "stream",
     "text": [
      "Initial Point [1 1]\n",
      "Approximate solution:  [1.81408506 1.43657295]\n",
      "Number of iterations:  24\n",
      "Value of the function with solution [ 0.00019744 -0.01231089]\n"
     ]
    }
   ],
   "source": [
    "# Initial point\n",
    "x1 = np.array([1, 1])\n",
    "\n",
    "# Solve the system\n",
    "x, i = newton_system(F, J, x1,tol=1e-2,max_iters=3000)\n",
    "\n",
    "# Print the results\n",
    "print(\"Initial Point\",x1)\n",
    "print(\"Approximate solution: \", x)\n",
    "print(\"Number of iterations: \", i)\n",
    "print(\"Value of the function with solution\",F(x))"
   ],
   "metadata": {
    "collapsed": false
   }
  },
  {
   "cell_type": "markdown",
   "source": [
    "* The solution converges to 0 in 24 iterations with initial point [1,1]"
   ],
   "metadata": {
    "collapsed": false
   }
  }
 ],
 "metadata": {
  "kernelspec": {
   "display_name": "Python 3",
   "language": "python",
   "name": "python3"
  },
  "language_info": {
   "codemirror_mode": {
    "name": "ipython",
    "version": 2
   },
   "file_extension": ".py",
   "mimetype": "text/x-python",
   "name": "python",
   "nbconvert_exporter": "python",
   "pygments_lexer": "ipython2",
   "version": "2.7.6"
  }
 },
 "nbformat": 4,
 "nbformat_minor": 0
}
