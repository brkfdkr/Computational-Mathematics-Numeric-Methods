{
 "cells": [
  {
   "cell_type": "markdown",
   "source": [
    "## Function of Output Table"
   ],
   "metadata": {
    "collapsed": false
   }
  },
  {
   "cell_type": "code",
   "execution_count": 1,
   "outputs": [],
   "source": [
    "def print_table(table):\n",
    "    \"\"\"\n",
    "    Print a table of values for each iteration of method\n",
    "\n",
    "    Parameters:\n",
    "    table (list of tuples): The table to print.\n",
    "\n",
    "    \"\"\"\n",
    "    headers = ('iter','a', 'b', 'c', 'f(c)')\n",
    "    print(\"{:^10} {:^10} {:^10} {:^10} {:^10}\".format(*headers))\n",
    "    print(\"-\"*58)\n",
    "    for row in table:\n",
    "        print(\"{:^10} {:^10.6f} {:^10.6f} {:^10.6f} {:^10.6f}\".format(*row))\n",
    "    print(\"=\"*58)"
   ],
   "metadata": {
    "collapsed": false
   }
  },
  {
   "cell_type": "markdown",
   "source": [
    "## Function of \"Bisection Method\""
   ],
   "metadata": {
    "collapsed": false
   }
  },
  {
   "cell_type": "code",
   "execution_count": 2,
   "outputs": [],
   "source": [
    "def bisection_method(func,a,b,tol=1e-5, max_iters=100):\n",
    "\n",
    "    \"\"\"\n",
    "    Find a root of the function f on the interval [a, b] using the bisection method.\n",
    "\n",
    "    Parameters:\n",
    "    func (function): The function to find a root of.\n",
    "    a (float): The left endpoint of the interval.\n",
    "    b (float): The right endpoint of the interval.\n",
    "    tol (float, optional): The tolerance for the root. Defaults to 1e-5.\n",
    "    max_iters (int, optional): The maximum number of iterations. Defaults to 100.\n",
    "\n",
    "    Returns:\n",
    "    float: An estimate of the root of f on the interval [a, b].\n",
    "\n",
    "    \"\"\"\n",
    "    c = a + (b-a)/2 # initial value of c\n",
    "    table = []      # output table template\n",
    "    iters = 1\n",
    "    while abs(func(c))>tol:\n",
    "\n",
    "        # Max iter condition\n",
    "        if iters>max_iters:\n",
    "            print(\"Bisection method failed to converge\")\n",
    "            return None\n",
    "        c = a + (b-a)/2\n",
    "\n",
    "        row = (iters,a, b, c, func(c))\n",
    "        table.append(row) # appending the values to the output table\n",
    "\n",
    "        if func(c)*func(b)<0:\n",
    "            a=c\n",
    "        elif func(c)*func(a)<0:\n",
    "            b=c\n",
    "        else:\n",
    "            if func(c)==0:\n",
    "                print_table(table)\n",
    "                print(\"The root of the function is :\",c)\n",
    "\n",
    "                return c\n",
    "\n",
    "            print(f\"Function has no root in interval\")\n",
    "            return None\n",
    "        iters+=1\n",
    "\n",
    "    print_table(table)\n",
    "    print(\"The root of the function is :\",c)\n",
    "\n",
    "    return c\n",
    "\n",
    "\n"
   ],
   "metadata": {
    "collapsed": false
   }
  },
  {
   "cell_type": "markdown",
   "source": [
    "## Function of \"False Position Method\""
   ],
   "metadata": {
    "collapsed": false
   }
  },
  {
   "cell_type": "code",
   "execution_count": 3,
   "outputs": [],
   "source": [
    "def false_position_method(func,a,b,tol = 1e-5,max_iters=100):\n",
    "    \"\"\"\n",
    "    Find the root of a function using the False Position method.\n",
    "\n",
    "    Parameters:\n",
    "    f (function): The function to find the root of.\n",
    "    a (float): The left endpoint of the interval.\n",
    "    b (float): The right endpoint of the interval.\n",
    "    tol (float): The desired tolerance (default 1e-5).\n",
    "    maxiter (int): The maximum number of iterations (default 100).\n",
    "\n",
    "    Returns:\n",
    "    float: An estimate of the root of f on the interval [a, b].\n",
    "\n",
    "    \"\"\"\n",
    "\n",
    "    # Base Condition\n",
    "    if func(a)*func(b)>=0:\n",
    "            print(f\"Function has no root in interval\")\n",
    "            return None\n",
    "\n",
    "    w = (b*func(a) - a*func(b)) / (func(a)-func(b)) # Initial value of weight\n",
    "\n",
    "    iters = 1\n",
    "    table =[] # output table template\n",
    "    while func(w)>tol:\n",
    "        # Max iter condition\n",
    "        if iters>max_iters:\n",
    "            print(\"False Position method failed to converge\")\n",
    "            return None\n",
    "\n",
    "        w = (b*func(a) - a*func(b)) / (func(a)-func(b)) # Weight update\n",
    "        row = (iters,a, b, w, func(w))\n",
    "        table.append(row) # appending the values to the output table\n",
    "        if func(a)*func(w)<0:\n",
    "            b=w\n",
    "        elif func(a)*func(w)>0:\n",
    "            a=w\n",
    "        else:\n",
    "            if func(w)==0:\n",
    "                print_table(table)\n",
    "                print(\"The root of the function is :\",w)\n",
    "\n",
    "                return w\n",
    "\n",
    "            print(f\"Function has no root in interval\")\n",
    "            return None\n",
    "        iters+=1\n",
    "\n",
    "    print_table(table)\n",
    "    print(\"The root of the function is :\",w)\n",
    "\n",
    "    return w"
   ],
   "metadata": {
    "collapsed": false
   }
  },
  {
   "cell_type": "markdown",
   "source": [
    "### Defining the Main Function"
   ],
   "metadata": {
    "collapsed": false
   }
  },
  {
   "cell_type": "code",
   "execution_count": 4,
   "outputs": [],
   "source": [
    "from math import e,sin,cos\n",
    "\n",
    "def f_q1(x):\n",
    "    return e**(-2*x) + x*cos(x) - 4*sin(2*x)"
   ],
   "metadata": {
    "collapsed": false
   }
  },
  {
   "cell_type": "markdown",
   "source": [
    "#### Root Finding"
   ],
   "metadata": {
    "collapsed": false
   }
  },
  {
   "cell_type": "code",
   "execution_count": 8,
   "outputs": [
    {
     "name": "stdout",
     "output_type": "stream",
     "text": [
      "   iter        a          b          c         f(c)   \n",
      "----------------------------------------------------------\n",
      "    1       1.000000   2.000000   1.500000  -0.408587 \n",
      "    2       1.500000   2.000000   1.750000   1.121400 \n",
      "    3       1.500000   1.750000   1.625000   0.383517 \n",
      "    4       1.500000   1.625000   1.562500  -0.009468 \n",
      "    5       1.562500   1.625000   1.593750   0.188261 \n",
      "    6       1.562500   1.593750   1.578125   0.089647 \n",
      "    7       1.562500   1.578125   1.570312   0.040145 \n",
      "    8       1.562500   1.570312   1.566406   0.015351 \n",
      "    9       1.562500   1.566406   1.564453   0.002945 \n",
      "    10      1.562500   1.564453   1.563477  -0.003261 \n",
      "    11      1.563477   1.564453   1.563965  -0.000158 \n",
      "    12      1.563965   1.564453   1.564209   0.001394 \n",
      "    13      1.563965   1.564209   1.564087   0.000618 \n",
      "    14      1.563965   1.564087   1.564026   0.000230 \n",
      "    15      1.563965   1.564026   1.563995   0.000036 \n",
      "    16      1.563965   1.563995   1.563980  -0.000061 \n",
      "    17      1.563980   1.563995   1.563988  -0.000012 \n",
      "    18      1.563988   1.563995   1.563992   0.000012 \n",
      "    19      1.563988   1.563992   1.563990  -0.000000 \n",
      "==========================================================\n",
      "The root of the function is : 1.5639896392822266\n"
     ]
    }
   ],
   "source": [
    "# Bisection Method Output with interval [1,2] and tolerance 10^-5\n",
    "root_b = bisection_method(f_q1, 1, 2,tol=1e-5)"
   ],
   "metadata": {
    "collapsed": false
   }
  },
  {
   "cell_type": "code",
   "execution_count": 9,
   "outputs": [
    {
     "name": "stdout",
     "output_type": "stream",
     "text": [
      "   iter        a          b          c         f(c)   \n",
      "----------------------------------------------------------\n",
      "    1       1.000000   2.000000   1.572304   0.052778 \n",
      "    2       1.000000   1.572304   1.562284  -0.010841 \n",
      "==========================================================\n",
      "The root of the function is : 1.562284038334266\n"
     ]
    }
   ],
   "source": [
    "# False Position Method Output with interval [1,2] and tolerance 10^-5\n",
    "root_fp = false_position_method(f_q1, 1, 2, tol=1e-5)"
   ],
   "metadata": {
    "collapsed": false
   }
  },
  {
   "cell_type": "code",
   "execution_count": null,
   "outputs": [],
   "source": [],
   "metadata": {
    "collapsed": false
   }
  }
 ],
 "metadata": {
  "kernelspec": {
   "display_name": "Python 3",
   "language": "python",
   "name": "python3"
  },
  "language_info": {
   "codemirror_mode": {
    "name": "ipython",
    "version": 2
   },
   "file_extension": ".py",
   "mimetype": "text/x-python",
   "name": "python",
   "nbconvert_exporter": "python",
   "pygments_lexer": "ipython2",
   "version": "2.7.6"
  }
 },
 "nbformat": 4,
 "nbformat_minor": 0
}
