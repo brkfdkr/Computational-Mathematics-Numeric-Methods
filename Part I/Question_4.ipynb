{
 "cells": [
  {
   "cell_type": "markdown",
   "source": [
    "## Function of \"Fixed Point Iteration\" Method"
   ],
   "metadata": {
    "collapsed": false
   },
   "execution_count": 1
  },
  {
   "cell_type": "code",
   "execution_count": 78,
   "outputs": [],
   "source": [
    "import math\n",
    "import pandas as pd\n",
    "import warnings\n",
    "warnings.filterwarnings('ignore')"
   ],
   "metadata": {
    "collapsed": false
   }
  },
  {
   "cell_type": "code",
   "execution_count": 105,
   "metadata": {
    "collapsed": true
   },
   "outputs": [],
   "source": [
    "def fixed_point_iteration(func, x0, a ,b, tol=1e-5, max_iters=100):\n",
    "    \"\"\"\n",
    "    Solve for a root of f(x) = 0 using fixed-point iteration method.\n",
    "\n",
    "    Parameters:\n",
    "    -----------\n",
    "    func : function\n",
    "        The fixed-point function. It must take a single argument, x, and return a single value.\n",
    "    x0 : float\n",
    "        Initial guess for the root.\n",
    "    a, b : float\n",
    "        Interval [a, b] containing the root.\n",
    "    tol : float\n",
    "        Tolerance for convergence.\n",
    "    max_iters : int\n",
    "        Maximum number of iterations.\n",
    "\n",
    "    Returns:\n",
    "    --------\n",
    "    x : float\n",
    "        Approximate root of f(x) = 0.\n",
    "    i : int\n",
    "        Number of iterations used.\n",
    "    convergence_rate : float\n",
    "        The rate of convergence.\n",
    "    \"\"\"\n",
    "\n",
    "    # Initialize variables\n",
    "    x = x0\n",
    "    iters = 1\n",
    "    x1 = func(x)\n",
    "\n",
    "    # Initialize table\n",
    "    table = pd.DataFrame(columns=['iteration', 'x','x1', 'f(x)'])\n",
    "\n",
    "    # Iterate until convergence or max iterations reached\n",
    "    while iters < max_iters:\n",
    "        table = table.append({'iteration': iters, 'x': x,'x1': x1, 'f(x)': func(x)}, ignore_index=True)\n",
    "        x1 = func(x)\n",
    "        if abs(x1 - x) < tol:\n",
    "            break\n",
    "        if x1 < a or x1 > b:\n",
    "            print(\"Out out interval error\")\n",
    "            break\n",
    "        x = x1\n",
    "        iters += 1\n",
    "\n",
    "    return x,table"
   ]
  },
  {
   "cell_type": "markdown",
   "source": [
    "## Defining the main function"
   ],
   "metadata": {
    "collapsed": false
   }
  },
  {
   "cell_type": "code",
   "execution_count": 106,
   "outputs": [],
   "source": [
    "def f(x):\n",
    "    return x**2 - 4*math.e**(-x)-3"
   ],
   "metadata": {
    "collapsed": false
   }
  },
  {
   "cell_type": "code",
   "execution_count": 108,
   "outputs": [
    {
     "name": "stdout",
     "output_type": "stream",
     "text": [
      "Out out interval error\n",
      "   iteration    x        x1      f(x)\n",
      "0        1.0  1.0 -3.471518 -3.471518\n"
     ]
    }
   ],
   "source": [
    "root,table = fixed_point_iteration(f, 1, 1, 2, tol=1e-5, max_iters=100) #x0 = 1 interval [1,2]\n",
    "print(table.head())"
   ],
   "metadata": {
    "collapsed": false
   }
  },
  {
   "cell_type": "markdown",
   "source": [
    "*\tIn first iteration x1 becomes -3.47 and it is out of interval it is not possible to solve even if we dont define the interval because the function diverges with initial value 1."
   ],
   "metadata": {
    "collapsed": false
   }
  },
  {
   "cell_type": "code",
   "execution_count": null,
   "outputs": [],
   "source": [],
   "metadata": {
    "collapsed": false
   }
  }
 ],
 "metadata": {
  "kernelspec": {
   "display_name": "Python 3",
   "language": "python",
   "name": "python3"
  },
  "language_info": {
   "codemirror_mode": {
    "name": "ipython",
    "version": 2
   },
   "file_extension": ".py",
   "mimetype": "text/x-python",
   "name": "python",
   "nbconvert_exporter": "python",
   "pygments_lexer": "ipython2",
   "version": "2.7.6"
  }
 },
 "nbformat": 4,
 "nbformat_minor": 0
}
