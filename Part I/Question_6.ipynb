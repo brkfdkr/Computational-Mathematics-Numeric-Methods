{
 "cells": [
  {
   "cell_type": "code",
   "execution_count": 3,
   "outputs": [
    {
     "name": "stderr",
     "output_type": "stream",
     "text": [
      "C:\\Users\\brkfd\\AppData\\Local\\Temp\\ipykernel_17952\\2907655253.py:1: DeprecationWarning: Importing display from IPython.core.display is deprecated since IPython 7.14, please import from IPython display\n",
      "  from IPython.core.display import Image, display, HTML\n"
     ]
    }
   ],
   "source": [
    "from IPython.core.display import Image, display, HTML\n"
   ],
   "metadata": {
    "collapsed": false
   }
  },
  {
   "cell_type": "markdown",
   "source": [
    "* Third order convergence rate means that the number of correct digits approximately triples with each iteration.\n",
    "* One root-finding method that has a third order of convergence is the Halley's method.\n",
    "* This method has similarities with Newton's method and it can be used in systems.\n",
    "* Although the method converges quickly, there is an additional cost of calculating the second derivative of the function.\n",
    "\n",
    "Source : https://towardsdatascience.com/nonlinear-optimization-using-halleys-method-2f2e7da4024\n",
    "\n",
    "* Formula:\n",
    "<br><img src=\"https://encrypted-tbn0.gstatic.com/images?q=tbn:ANd9GcTBzSFUuOK2sntUYTLC7arYBVY3zikk8IhwVNOg4RPq51yaQvl291w9f01ur4KGO7w4Yw&usqp=CAU\">\n",
    "\n",
    "\n"
   ],
   "metadata": {
    "collapsed": false
   }
  },
  {
   "cell_type": "code",
   "execution_count": null,
   "outputs": [],
   "source": [],
   "metadata": {
    "collapsed": false
   }
  }
 ],
 "metadata": {
  "kernelspec": {
   "display_name": "Python 3",
   "language": "python",
   "name": "python3"
  },
  "language_info": {
   "codemirror_mode": {
    "name": "ipython",
    "version": 2
   },
   "file_extension": ".py",
   "mimetype": "text/x-python",
   "name": "python",
   "nbconvert_exporter": "python",
   "pygments_lexer": "ipython2",
   "version": "2.7.6"
  }
 },
 "nbformat": 4,
 "nbformat_minor": 0
}
