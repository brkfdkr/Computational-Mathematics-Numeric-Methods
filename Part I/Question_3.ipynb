{
 "cells": [
  {
   "cell_type": "code",
   "execution_count": 209,
   "outputs": [],
   "source": [
    "import time\n",
    "import math\n",
    "import numpy as np"
   ],
   "metadata": {
    "collapsed": false
   }
  },
  {
   "cell_type": "markdown",
   "source": [
    "## Function of \"Newton - Raphson Method\"\n"
   ],
   "metadata": {
    "collapsed": false
   }
  },
  {
   "cell_type": "code",
   "execution_count": 254,
   "outputs": [],
   "source": [
    "def newton_raphson_method(func,dfunc,x0,tol=1e-5, max_iters=100):\n",
    "\n",
    "    \"\"\"\n",
    "    Find the root of a function using the Newton-Raphson method.\n",
    "\n",
    "    Parameters:\n",
    "    func (function): The function to find the root of.\n",
    "    df (function): The derivative of the function.\n",
    "    x0 (float): The initial guess for the root.\n",
    "    tol (float): The desired tolerance (default 1e-5).\n",
    "    maxiter (int): The maximum number of iterations (default 100).\n",
    "\n",
    "    Returns:\n",
    "    float: The approximate root of the function.\n",
    "    iters (int): The number of iterations required to converge.\n",
    "    rate (float): The convergence rate.\n",
    "    cpu_time (float): The CPU time used to run the method.\n",
    "    \"\"\"\n",
    "    # Start measuring CPU time\n",
    "    start_time = time.perf_counter()\n",
    "\n",
    "    iters = 1\n",
    "    x=x0            # defining the root\n",
    "\n",
    "    while abs(func(x))>tol:\n",
    "        # Check for division by zero\n",
    "        if dfunc(x) == 0:\n",
    "            print(\"Error: Division by zero.\")\n",
    "            return None\n",
    "\n",
    "        # Max iter condition\n",
    "        if iters>max_iters:\n",
    "            print(\"Newton-Raphson method failed to converge\")\n",
    "            return None\n",
    "\n",
    "        # Update the approximate root using the Newton-Raphson formula\n",
    "        prev_x = x\n",
    "        x = x - func(x)/dfunc(x)\n",
    "\n",
    "        iters+=1\n",
    "\n",
    "    # Compute the convergence rate\n",
    "    if iters == 0:\n",
    "        rate = 0.0\n",
    "    else:\n",
    "        rate = abs((x - prev_x) / x)\n",
    "\n",
    "\n",
    "    # Compute the CPU time and return the results\n",
    "    end_time = time.perf_counter()\n",
    "    cpu_time = (end_time - start_time) * 1000\n",
    "\n",
    "    return x, iters, rate, cpu_time"
   ],
   "metadata": {
    "collapsed": false
   }
  },
  {
   "cell_type": "markdown",
   "source": [
    "## Function of \"Secant Method\""
   ],
   "metadata": {
    "collapsed": false
   }
  },
  {
   "cell_type": "code",
   "execution_count": 255,
   "outputs": [],
   "source": [
    "def secant_method(func,x0,x1,tol=1e-5, max_iters=100):\n",
    "\n",
    "    \"\"\"\n",
    "    Find the root of a function using secant method.\n",
    "\n",
    "    Parameters:\n",
    "    func (function): The function to find the root of.\n",
    "    x0 (float): The first initial guess for the root.\n",
    "    x1 (float): The second initial guess for the root.\n",
    "    tol (float): The desired tolerance (default 1e-5).\n",
    "    maxiter (int): The maximum number of iterations (default 100).\n",
    "\n",
    "    Returns:\n",
    "    float: The approximate root of the function.\n",
    "    iters (int): The number of iterations required to converge.\n",
    "    rate (float): The convergence rate.\n",
    "    cpu_time (float): The CPU time used to run the method.\n",
    "    \"\"\"\n",
    "    # Start measuring CPU time\n",
    "    start_time = time.perf_counter()\n",
    "\n",
    "    iters = 1\n",
    "\n",
    "    while abs(func(x1))>tol:\n",
    "\n",
    "        # Max iter condition\n",
    "        if iters>max_iters:\n",
    "            print(\"Secant method failed to converge\")\n",
    "            return None\n",
    "\n",
    "        # Compute the next approximation of the root using the secant method formula\n",
    "        dx = func(x1)*(x1-x0)/(func(x1)-func(x0))\n",
    "        x0 = x1\n",
    "        x1 = x1 - dx\n",
    "\n",
    "        iters+=1\n",
    "\n",
    "    # Compute the convergence rate\n",
    "    if iters == 0:\n",
    "        rate = 0.0\n",
    "    else:\n",
    "        rate = abs((x1 - x0) / x1)\n",
    "\n",
    "\n",
    "    # Compute the CPU time and return the results\n",
    "    end_time = time.perf_counter()\n",
    "    cpu_time = (end_time - start_time) * 1000\n",
    "\n",
    "    return x1, iters, rate, cpu_time"
   ],
   "metadata": {
    "collapsed": false
   }
  },
  {
   "cell_type": "markdown",
   "source": [
    "## Function of \"Müller Method\""
   ],
   "metadata": {
    "collapsed": false
   }
  },
  {
   "cell_type": "code",
   "execution_count": 256,
   "outputs": [],
   "source": [
    "def muller_method(func, a, b, c, tol=1e-5, max_iters=100):\n",
    "    \"\"\"\n",
    "    Find the root of a function using the Muller method.\n",
    "\n",
    "    Parameters:\n",
    "    func (function): The function to find the root of.\n",
    "    a (float or complex): The first initial guess for the root.\n",
    "    b (float or complex): The second initial guess for the root.\n",
    "    c (float or complex): The third initial guess for the root.\n",
    "    tol (float): The desired tolerance (default 1e-6).\n",
    "    max_iters (int): The maximum number of iterations (default 100).\n",
    "\n",
    "    Returns:\n",
    "    root: The approximate root of the function.\n",
    "    iters (int): The number of iterations required to converge.\n",
    "    rate (float): The convergence rate.\n",
    "    cpu_time (float): The CPU time used to run the method.\n",
    "\n",
    "    \"\"\"\n",
    "    # Initialize the CPU time\n",
    "    start_time = time.perf_counter()\n",
    "    res = tol+1 # Activating while loop\n",
    "    iters = 0\n",
    "\n",
    "    while abs(res)>tol:\n",
    "\n",
    "        # Max iter condition\n",
    "        if iters>max_iters:\n",
    "            print(\"Müller method failed to converge\")\n",
    "            return None\n",
    "\n",
    "        # Compute the differences between the points\n",
    "        h1 = a - c\n",
    "        h2 = b - c\n",
    "\n",
    "\n",
    "        # Compute the slopes of the secant lines\n",
    "        d1 = func(a) - func(c)\n",
    "        d2 = func(b) - func(c)\n",
    "\n",
    "        a0 = func(c)\n",
    "        a1 = (((d2 * pow(h1, 2)) -\n",
    "               (d1 * pow(h2, 2))) /\n",
    "              ((h1 * h2) * (h1 - h2)))\n",
    "\n",
    "        a2 = (((d1 * h2) - (d2 * h1)) /\n",
    "              ((h1 * h2) * (h1 - h2)))\n",
    "\n",
    "        x = ((-2 * a0) / (a1 + abs((a1 * a1 - 4 * a0 * a2)**(1/2))))\n",
    "        y = ((-2 * a0) / (a1 - abs((a1 * a1 - 4 * a0 * a2)**(1/2))))\n",
    "\n",
    "        # Choose the root closer to x2\n",
    "        if (x >= y):\n",
    "            res = x + c\n",
    "        else:\n",
    "            res = y + c\n",
    "\n",
    "        # Checking for resemblance of x3\n",
    "        # with x2 till two decimal places\n",
    "        m = res * 100\n",
    "        n = c * 100\n",
    "        m = math.floor(m)\n",
    "        n = math.floor(n)\n",
    "        if (m == n):\n",
    "            break\n",
    "        a = b\n",
    "        b = c\n",
    "        c = res\n",
    "\n",
    "        iters+=1\n",
    "\n",
    "    end_time = time.perf_counter()\n",
    "    cpu_time = (end_time - start_time) * 1000\n",
    "    convergence_rate = abs(c - b) / abs(b - a)**2\n",
    "\n",
    "    return res, iters, convergence_rate, cpu_time"
   ],
   "metadata": {
    "collapsed": false
   }
  },
  {
   "cell_type": "code",
   "execution_count": 257,
   "outputs": [],
   "source": [
    "def f_q2(x):\n",
    "    return -x**4 + 3*x**2 + 2\n",
    "def df_q2(x):\n",
    "    return -4*x**3 + 6*x"
   ],
   "metadata": {
    "collapsed": false
   }
  },
  {
   "cell_type": "code",
   "execution_count": 258,
   "outputs": [
    {
     "data": {
      "text/plain": "1.8872076761217191"
     },
     "execution_count": 258,
     "metadata": {},
     "output_type": "execute_result"
    }
   ],
   "source": [
    "# Newton_Raphson Method Output with x0 = 1.224744871391589 with maximum 200 iterations\n",
    "root_r1, iters, rate, cpu_time = newton_raphson_method(f_q2, df_q2, 1.6,max_iters=200)\n",
    "root_r1"
   ],
   "metadata": {
    "collapsed": false
   }
  },
  {
   "cell_type": "code",
   "execution_count": 259,
   "outputs": [
    {
     "data": {
      "text/plain": "1.8872076478662956"
     },
     "execution_count": 259,
     "metadata": {},
     "output_type": "execute_result"
    }
   ],
   "source": [
    "# Newton_Raphson Method Output with x0 = 1.224744871391589 with maximum 200 iterations\n",
    "root_r1, iters, rate, cpu_time = secant_method(f_q2, 1, 10, max_iters=200)\n",
    "root_r1"
   ],
   "metadata": {
    "collapsed": false
   }
  },
  {
   "cell_type": "code",
   "execution_count": 260,
   "outputs": [
    {
     "data": {
      "text/plain": "1.88720754943864"
     },
     "execution_count": 260,
     "metadata": {},
     "output_type": "execute_result"
    }
   ],
   "source": [
    "# Newton_Raphson Method Output with x0 = 1.224744871391589 with maximum 200 iterations\n",
    "root_r1, iters, rate, cpu_time = muller_method(f_q2,-2,-1,0)\n",
    "root_r1"
   ],
   "metadata": {
    "collapsed": false
   }
  },
  {
   "cell_type": "code",
   "execution_count": 261,
   "outputs": [],
   "source": [
    "# Functions to test\n",
    "def f1(x):\n",
    "    return 5*x**3 - 2*x**2 + 3*x + 1\n",
    "\n",
    "def f2(x):\n",
    "    return x**2 - 2*np.sin(x)\n",
    "\n",
    "def f3(x):\n",
    "    return np.exp(-x) * np.cos(x)\n",
    "\n",
    "\n",
    "\n",
    "# Derivatives of those for Newton's Method\n",
    "\n",
    "def df1(x):\n",
    "    return 15*x**2 - 4*x + 3\n",
    "\n",
    "def df2(x):\n",
    "    return 2*x - 2*np.cos(x)\n",
    "\n",
    "def df3(x):\n",
    "    return -np.exp(-x) * np.sin(x) - np.exp(-x) * np.cos(x)"
   ],
   "metadata": {
    "collapsed": false
   }
  },
  {
   "cell_type": "code",
   "execution_count": 261,
   "outputs": [],
   "source": [],
   "metadata": {
    "collapsed": false
   }
  },
  {
   "cell_type": "code",
   "execution_count": 271,
   "outputs": [
    {
     "name": "stdout",
     "output_type": "stream",
     "text": [
      "Table For Function: 5x^3 - 2x^2 + 3x + 1\n",
      "---------------------------------------------------------------------------\n",
      "Method         Iterations     Convergence Rate    CPU Time (ms)       Root\n",
      "---------------------------------------------------------------------------\n",
      "Muller         7              0.142844            0.043000            -0.259364\n",
      "Newton-Raphson 6              0.000437            0.009700            -0.259390\n",
      "Secant         8              0.000194            0.016500            -0.259390\n",
      "Table For Function: x^2 - 2sin(x)\n",
      "---------------------------------------------------------------------------\n",
      "Method         Iterations     Convergence Rate    CPU Time (ms)       Root\n",
      "---------------------------------------------------------------------------\n",
      "Muller         3              0.214787            0.110200            1.404415\n",
      "Newton-Raphson 6              0.000004            0.042300            1.404415\n",
      "Secant         2              inf                 0.063400            0.000000\n",
      "Table For Function: e^(-x) * cos(x)\n",
      "---------------------------------------------------------------------------\n",
      "Method         Iterations     Convergence Rate    CPU Time (ms)       Root\n",
      "---------------------------------------------------------------------------\n",
      "Muller         9              19.250647           0.150500            14.186731\n",
      "Newton-Raphson 5              0.000415            0.054300            1.570796\n",
      "Secant         8              0.000360            0.061800            1.570802\n"
     ]
    },
    {
     "name": "stderr",
     "output_type": "stream",
     "text": [
      "C:\\Users\\brkfd\\AppData\\Local\\Temp\\ipykernel_15144\\1294291010.py:42: RuntimeWarning: divide by zero encountered in double_scalars\n",
      "  rate = abs((x1 - x0) / x1)\n"
     ]
    }
   ],
   "source": [
    "# Test the methods in first function\n",
    "\n",
    "muller_root, muller_iters, muller_conv_rate, muller_cpu_time = muller_method(f1, -1.5, -1,-0.5 ,max_iters=300)\n",
    "secant_root, secant_iters, secant_conv_rate, secant_cpu_time = secant_method(f1, -1.5, -1)\n",
    "newton_raphson_root, newton_raphson_iters, newton_raphson_conv_rate, newton_raphson_cpu_time = newton_raphson_method(f1, df1, -1)\n",
    "\n",
    "# Generate table\n",
    "print(\"Table For Function: 5x^3 - 2x^2 + 3x + 1\")\n",
    "print(\"-\"*75)\n",
    "print(\"{:<15}{:<15}{:<20}{:<20}{}\".format(\"Method\", \"Iterations\", \"Convergence Rate\", \"CPU Time (ms)\", \"Root\"))\n",
    "print(\"-\"*75)\n",
    "print(\"{:<15}{:<15d}{:<20.6f}{:<20.6f}{:<.6f}\".format(\"Muller\", muller_iters, muller_conv_rate, muller_cpu_time, muller_root))\n",
    "print(\"{:<15}{:<15d}{:<20.6f}{:<20.6f}{:<.6f}\".format(\"Newton-Raphson\", newton_raphson_iters, newton_raphson_conv_rate, newton_raphson_cpu_time, newton_raphson_root))\n",
    "print(\"{:<15}{:<15d}{:<20.6f}{:<20.6f}{:<.6f}\".format(\"Secant\", secant_iters, secant_conv_rate, secant_cpu_time, secant_root))\n",
    "\n",
    "# Test the methods in second function\n",
    "\n",
    "muller_root, muller_iters, muller_conv_rate, muller_cpu_time = muller_method(f2, -5, 1,4 ,max_iters=300)\n",
    "secant_root, secant_iters, secant_conv_rate, secant_cpu_time = secant_method(f2, 0, 2)\n",
    "newton_raphson_root, newton_raphson_iters, newton_raphson_conv_rate, newton_raphson_cpu_time = newton_raphson_method(f2, df2, 1)\n",
    "\n",
    "# Generate table\n",
    "print(\"Table For Function: x^2 - 2sin(x)\")\n",
    "print(\"-\"*75)\n",
    "print(\"{:<15}{:<15}{:<20}{:<20}{}\".format(\"Method\", \"Iterations\", \"Convergence Rate\", \"CPU Time (ms)\", \"Root\"))\n",
    "print(\"-\"*75)\n",
    "print(\"{:<15}{:<15d}{:<20.6f}{:<20.6f}{:<.6f}\".format(\"Muller\", muller_iters, muller_conv_rate, muller_cpu_time, muller_root))\n",
    "print(\"{:<15}{:<15d}{:<20.6f}{:<20.6f}{:<.6f}\".format(\"Newton-Raphson\", newton_raphson_iters, newton_raphson_conv_rate, newton_raphson_cpu_time, newton_raphson_root))\n",
    "print(\"{:<15}{:<15d}{:<20.6f}{:<20.6f}{:<.6f}\".format(\"Secant\", secant_iters, secant_conv_rate, secant_cpu_time, secant_root))\n",
    "\n",
    "\n",
    "# Test the methods in third function\n",
    "\n",
    "muller_root, muller_iters, muller_conv_rate, muller_cpu_time = muller_method(f3, 1, 1.5, 2)\n",
    "secant_root, secant_iters, secant_conv_rate, secant_cpu_time = secant_method(f3, -5,2)\n",
    "newton_raphson_root, newton_raphson_iters, newton_raphson_conv_rate, newton_raphson_cpu_time = newton_raphson_method(f3, df3, 1)\n",
    "\n",
    "# Generate table\n",
    "print(\"Table For Function: e^(-x) * cos(x)\")\n",
    "print(\"-\"*75)\n",
    "print(\"{:<15}{:<15}{:<20}{:<20}{}\".format(\"Method\", \"Iterations\", \"Convergence Rate\", \"CPU Time (ms)\", \"Root\"))\n",
    "print(\"-\"*75)\n",
    "print(\"{:<15}{:<15d}{:<20.6f}{:<20.6f}{:<.6f}\".format(\"Muller\", muller_iters, muller_conv_rate, muller_cpu_time, muller_root))\n",
    "print(\"{:<15}{:<15d}{:<20.6f}{:<20.6f}{:<.6f}\".format(\"Newton-Raphson\", newton_raphson_iters, newton_raphson_conv_rate, newton_raphson_cpu_time, newton_raphson_root))\n",
    "print(\"{:<15}{:<15d}{:<20.6f}{:<20.6f}{:<.6f}\".format(\"Secant\", secant_iters, secant_conv_rate, secant_cpu_time, secant_root))"
   ],
   "metadata": {
    "collapsed": false
   }
  },
  {
   "cell_type": "markdown",
   "source": [
    "* Muller method can find root in less iterations then others in some functions but in general its computational cost is higher than others.\n",
    "* We can find different roots of the functions with different methods.\n",
    "* When root is 0, convergence rate is hard to identify it is defined as infinite in second function's secant iteration."
   ],
   "metadata": {
    "collapsed": false
   }
  },
  {
   "cell_type": "code",
   "execution_count": null,
   "outputs": [],
   "source": [],
   "metadata": {
    "collapsed": false
   }
  }
 ],
 "metadata": {
  "kernelspec": {
   "display_name": "Python 3",
   "language": "python",
   "name": "python3"
  },
  "language_info": {
   "codemirror_mode": {
    "name": "ipython",
    "version": 2
   },
   "file_extension": ".py",
   "mimetype": "text/x-python",
   "name": "python",
   "nbconvert_exporter": "python",
   "pygments_lexer": "ipython2",
   "version": "2.7.6"
  }
 },
 "nbformat": 4,
 "nbformat_minor": 0
}
